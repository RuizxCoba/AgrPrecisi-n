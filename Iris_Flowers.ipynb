{
  "nbformat": 4,
  "nbformat_minor": 0,
  "metadata": {
    "colab": {
      "provenance": [],
      "toc_visible": true,
      "authorship_tag": "ABX9TyNgRJXehPCECckAEsDWS5G6",
      "include_colab_link": true
    },
    "kernelspec": {
      "name": "python3",
      "display_name": "Python 3"
    },
    "language_info": {
      "name": "python"
    }
  },
  "cells": [
    {
      "cell_type": "markdown",
      "metadata": {
        "id": "view-in-github",
        "colab_type": "text"
      },
      "source": [
        "<a href=\"https://colab.research.google.com/github/RuizxCoba/AgrPrecisi-n/blob/main/Iris_Flowers.ipynb\" target=\"_parent\"><img src=\"https://colab.research.google.com/assets/colab-badge.svg\" alt=\"Open In Colab\"/></a>"
      ]
    },
    {
      "cell_type": "markdown",
      "source": [
        "Sistema experto Iris Flowers Dataset"
      ],
      "metadata": {
        "id": "DhEmnrVJQ8ZH"
      }
    },
    {
      "cell_type": "code",
      "execution_count": null,
      "metadata": {
        "colab": {
          "base_uri": "https://localhost:8080/"
        },
        "id": "9ALky3QdPwhC",
        "outputId": "a81a7ea8-e9dd-404d-ef14-a4a1f29cf153"
      },
      "outputs": [
        {
          "output_type": "stream",
          "name": "stdout",
          "text": [
            "Ingrese la longitud del sépalo: 3.2\n",
            "Ingrese el ancho del sépalo: 0.2\n",
            "Ingrese la longitud del pétalo: 5\n",
            "Ingrese el ancho del pétalo: 3.2\n",
            "La especie de Iris predicha es: Setosa\n"
          ]
        }
      ],
      "source": [
        "def determinar_especie(longitud_sepalo, ancho_sepalo, longitud_petalo, ancho_petalo):\n",
        "    if ancho_petalo > longitud_petalo:  # Pétalos más anchos que los de Virginica\n",
        "        return \"Versicolor\"\n",
        "    elif ancho_petalo < ancho_sepalo:  # Pétalos estrechos para Setosa\n",
        "        return \"Setosa\"\n",
        "    elif longitud_sepalo < 3.5:   # Sépalos pequeños para Setosa\n",
        "        return \"Setosa\"\n",
        "    else:              # Restantes son Virginica\n",
        "        return \"Virginica\"\n",
        "\n",
        "# Ejemplo de uso\n",
        "longitud_sepalo = float(input(\"Ingrese la longitud del sépalo: \"))\n",
        "ancho_sepalo = float(input(\"Ingrese el ancho del sépalo: \"))\n",
        "longitud_petalo = float(input(\"Ingrese la longitud del pétalo: \"))\n",
        "ancho_petalo = float(input(\"Ingrese el ancho del pétalo: \"))\n",
        "\n",
        "especie_predicha = determinar_especie(longitud_sepalo, ancho_sepalo, longitud_petalo, ancho_petalo)\n",
        "print(\"La especie de Iris predicha es:\", especie_predicha)\n"
      ]
    }
  ]
}